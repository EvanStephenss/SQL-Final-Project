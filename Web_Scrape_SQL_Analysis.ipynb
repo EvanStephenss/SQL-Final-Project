{
  "nbformat": 4,
  "nbformat_minor": 0,
  "metadata": {
    "colab": {
      "provenance": []
    },
    "kernelspec": {
      "name": "python3",
      "display_name": "Python 3"
    },
    "language_info": {
      "name": "python"
    }
  },
  "cells": [
    {
      "cell_type": "code",
      "source": [
        "!pip install mysql-connector-python"
      ],
      "metadata": {
        "colab": {
          "base_uri": "https://localhost:8080/"
        },
        "id": "iW2HVGp2ZytU",
        "outputId": "e22ef7df-4c04-478e-fb07-479747f4d6cd"
      },
      "execution_count": 7,
      "outputs": [
        {
          "output_type": "stream",
          "name": "stdout",
          "text": [
            "Collecting mysql-connector-python\n",
            "  Downloading mysql_connector_python-8.3.0-cp310-cp310-manylinux_2_17_x86_64.whl (21.5 MB)\n",
            "\u001b[2K     \u001b[90m━━━━━━━━━━━━━━━━━━━━━━━━━━━━━━━━━━━━━━━━\u001b[0m \u001b[32m21.5/21.5 MB\u001b[0m \u001b[31m32.9 MB/s\u001b[0m eta \u001b[36m0:00:00\u001b[0m\n",
            "\u001b[?25hInstalling collected packages: mysql-connector-python\n",
            "Successfully installed mysql-connector-python-8.3.0\n"
          ]
        }
      ]
    },
    {
      "cell_type": "code",
      "source": [
        "import mysql.connector\n",
        "import pandas as pd\n",
        "\n",
        "# Establishing the database connection\n",
        "connection = mysql.connector.connect(\n",
        "    host='isba-dev-01.crw88eg88uar.us-east-1.rds.amazonaws.com',\n",
        "    user='admin',\n",
        "    password='isba_4715',\n",
        "    database='artworks'\n",
        ")\n",
        "\n",
        "# SQL query for top auction houses by sales volume\n",
        "query_top_auction_houses = \"\"\"\n",
        "SELECT ad.auction_house, COUNT(*) AS NumberOfSales\n",
        "FROM auction_details ad\n",
        "JOIN artwork_details ad2 ON ad.id = ad2.id\n",
        "GROUP BY ad.auction_house\n",
        "ORDER BY NumberOfSales DESC, auction_house;\n",
        "\"\"\"\n",
        "\n",
        "# SQL query for month-to-month comparison of top auction houses\n",
        "query_monthly_comparison = \"\"\"\n",
        "SELECT\n",
        "    MONTHNAME(auction_date) AS 'Month',\n",
        "    COUNT(CASE WHEN ad.auction_house = \"Sotheby's • New York\" THEN ad.id ELSE NULL END) AS `Sotheby's • New York Sales`,\n",
        "    COUNT(CASE WHEN ad.auction_house = \"Christie's • New York\" THEN ad.id ELSE NULL END) AS `Christie's • New York Sales`,\n",
        "    COUNT(CASE WHEN ad.auction_house = \"Swann Galleries • New York\" THEN ad.id ELSE NULL END) AS `Swann Galleries • New York Sales`\n",
        "FROM\n",
        "    auction_details ad\n",
        "JOIN\n",
        "    artwork_details ad2 ON ad.id = ad2.id\n",
        "GROUP BY\n",
        "    MONTHNAME(auction_date)\n",
        "ORDER BY\n",
        "    MONTH(auction_date);\n",
        "\"\"\"\n",
        "\n",
        "# Executing queries and fetching results\n",
        "top_auction_houses = pd.read_sql(query_top_auction_houses, con=connection)\n",
        "monthly_comparison = pd.read_sql(query_monthly_comparison, con=connection)\n",
        "\n",
        "# Closing the database connection\n",
        "connection.close()\n",
        "\n",
        "# Displaying the results\n",
        "print(\"Top Auction Houses by Sales Volume:\")\n",
        "print(top_auction_houses)\n",
        "\n",
        "\n",
        "\n",
        "print(\"\\nMonthly Sales Comparison:\")\n",
        "print(monthly_comparison)\n"
      ],
      "metadata": {
        "colab": {
          "base_uri": "https://localhost:8080/"
        },
        "id": "ufZQpJhWZsxY",
        "outputId": "8cb05122-019d-4566-a0e9-329f39ce1461"
      },
      "execution_count": 13,
      "outputs": [
        {
          "output_type": "stream",
          "name": "stderr",
          "text": [
            "<ipython-input-13-dd7362ca0a05>:39: UserWarning: pandas only supports SQLAlchemy connectable (engine/connection) or database string URI or sqlite3 DBAPI2 connection. Other DBAPI2 objects are not tested. Please consider using SQLAlchemy.\n",
            "  top_auction_houses = pd.read_sql(query_top_auction_houses, con=connection)\n",
            "<ipython-input-13-dd7362ca0a05>:40: UserWarning: pandas only supports SQLAlchemy connectable (engine/connection) or database string URI or sqlite3 DBAPI2 connection. Other DBAPI2 objects are not tested. Please consider using SQLAlchemy.\n",
            "  monthly_comparison = pd.read_sql(query_monthly_comparison, con=connection)\n"
          ]
        },
        {
          "output_type": "stream",
          "name": "stdout",
          "text": [
            "Top Auction Houses by Sales Volume:\n",
            "Business Question: Who are the top Auction houses by sales volume?\n",
            "                       auction_house  NumberOfSales\n",
            "0              Christie's • New York           1213\n",
            "1               Sotheby's • New York            823\n",
            "2                          Sotheby's            703\n",
            "3         Swann Galleries • New York            265\n",
            "4                         Christie's            254\n",
            "..                               ...            ...\n",
            "460                Wannenes • Genova              1\n",
            "461        Webb's Fine Art • Aukland              1\n",
            "462                 Whyte's • Dublin              1\n",
            "463            Wolf's • Cleveland OH              1\n",
            "464  Zurichsee Auktionen • Erlenbach              1\n",
            "\n",
            "[465 rows x 2 columns]\n",
            "Insight: Overwhelmingly The top auction houses are all the New York locations of Sotheby's, Christie's, and Swann Galleries.\n",
            "\n",
            "Monthly Sales Comparison:\n",
            "Business Question: How do they compare month to month?\n",
            "        Month  Sotheby's • New York Sales  Christie's • New York Sales  \\\n",
            "0        None                           0                            0   \n",
            "1     January                           0                            3   \n",
            "2    February                          12                           53   \n",
            "3       March                          47                           10   \n",
            "4       April                          97                          238   \n",
            "5         May                         259                          244   \n",
            "6        June                           2                            0   \n",
            "7        July                           1                           42   \n",
            "8      August                           0                            1   \n",
            "9   September                          10                           31   \n",
            "10    October                         168                          319   \n",
            "11   November                         224                          266   \n",
            "12   December                           3                            6   \n",
            "\n",
            "    Swann Galleries • New York Sales  \n",
            "0                                  0  \n",
            "1                                  0  \n",
            "2                                  2  \n",
            "3                                 11  \n",
            "4                                  2  \n",
            "5                                 56  \n",
            "6                                 30  \n",
            "7                                  0  \n",
            "8                                  4  \n",
            "9                                  6  \n",
            "10                                 0  \n",
            "11                               154  \n",
            "12                                 0  \n"
          ]
        }
      ]
    },
    {
      "cell_type": "markdown",
      "source": [
        "# Query 1\n",
        "\n",
        "Business Question: Who are the top Auction houses by sales volume?\n",
        "\n",
        "Insight: Overwhelmingly The top auction houses are all the New York locations of Sotheby's, Christie's, and Swann Galleries.\n",
        "\n",
        "Recomendation: Buying and selling artworks from this artist happen most frequently at these New York locations. Frequently attend these auctions.\n",
        "\n",
        "Prediction: A collector would find more success dealing these artworks out of the New York Locations."
      ],
      "metadata": {
        "id": "Qr6CrYGVbiUa"
      }
    },
    {
      "cell_type": "markdown",
      "source": [
        "#Query 2\n",
        "\n",
        "\n",
        "Business Question: How do they compare month to month and what months are the most sales?\n",
        "\n",
        "Insight: There are distinct gallery seasons Feb - May & Sept - Nov for this artist.Sotheby's and christies are essentially head to head followed by Swann\n",
        "\n",
        "Recomendation: aquiring these artworks during the offseason with the intention to sell during peak demand at these auctions.\n",
        "\n",
        "Prediction: A collector would find more success dealing these artworks at Sotheby's and Christies in noew york from Feb - May & Sept - Nov."
      ],
      "metadata": {
        "id": "-1L7YPn4dGiQ"
      }
    }
  ]
}