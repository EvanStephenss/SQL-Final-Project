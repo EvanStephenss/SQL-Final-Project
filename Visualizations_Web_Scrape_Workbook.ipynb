{
  "nbformat": 4,
  "nbformat_minor": 0,
  "metadata": {
    "colab": {
      "provenance": []
    },
    "kernelspec": {
      "name": "python3",
      "display_name": "Python 3"
    },
    "language_info": {
      "name": "python"
    }
  },
  "cells": [
    {
      "cell_type": "code",
      "execution_count": null,
      "metadata": {
        "id": "qLHbRB7d6ieW"
      },
      "outputs": [],
      "source": [
        "import pandas as pd\n",
        "import matplotlib.pyplot as plt\n",
        "import seaborn as sns\n"
      ]
    },
    {
      "cell_type": "code",
      "source": [
        "# Pie Chart\n",
        "\n",
        "fig, ax = plt.subplots()\n",
        "wedges, texts, autotexts = ax.pie(top_ten_auction_houses['NumberOfSales'], colors=plt.cm.tab20.colors[:10], autopct='%1.1f%%', startangle=90, textprops={'color':\"w\"})\n",
        "ax.legend(wedges, top_ten_auction_houses['auction_house'], title=\"Auction Houses\", loc=\"center left\", bbox_to_anchor=(1, 0, 0.5, 1))\n",
        "ax.axis('equal')\n",
        "plt.title('Top Ten Auction Houses Sales Distribution')\n",
        "plt.show()\n"
      ],
      "metadata": {
        "id": "sDSgWoem6m2v"
      },
      "execution_count": null,
      "outputs": []
    },
    {
      "cell_type": "code",
      "source": [
        "# Line Chart\n",
        "\n",
        "plt.figure(figsize=(10, 6))\n",
        "plt.plot(month_to_month_data_cleaned['Month'], month_to_month_data_cleaned[\"Sotheby's • New York Sales\"], marker='o', linewidth=2.5, color='blue', label=\"Sotheby's • New York\")\n",
        "plt.plot(month_to_month_data_cleaned['Month'], month_to_month_data_cleaned[\"Christie's • New York Sales\"], marker='o', linewidth=2.5, color='green', label=\"Christie's • New York\")\n",
        "plt.plot(month_to_month_data_cleaned['Month'], month_to_month_data_cleaned[\"Swann Galleries • New York Sales\"], marker='o', linewidth=2.5, color='red', label=\"Swann Galleries • New York\")\n",
        "plt.title('Month-to-Month Sales Trends for Auction Houses in New York')\n",
        "plt.xlabel('Month')\n",
        "plt.ylabel('Number of Sales')\n",
        "plt.xticks(rotation=45)\n",
        "plt.legend()\n",
        "plt.grid(True)\n",
        "plt.tight_layout()\n",
        "plt.show()\n"
      ],
      "metadata": {
        "id": "ApYY5ZMD6s2h"
      },
      "execution_count": null,
      "outputs": []
    }
  ]
}